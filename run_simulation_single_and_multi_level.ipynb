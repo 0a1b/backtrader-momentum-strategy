{
 "cells": [
  {
   "cell_type": "markdown",
   "id": "a90cff98",
   "metadata": {},
   "source": [
    "This notebook loads data including QQQ and has two modes to run. Generated data with ranks with different parameters so in the end it has multilvel index depending on the parameters  - lookback period X, lookback period Y and so on. then generated strategy based on different stocks (strategy is simple , just buy best x stocks) and final output is simulation and heatmap.\n",
    "\n",
    "As for the second mode, it includes QQQ, strategy is changed to take consideration of QQQ. QQQ ranks are calcualted as other ranks, and if during the simulation, QQQ ranks is zero than either we don;t do anything until it gets better (positive again) or sell everythig, re buy other once it's get better.\n",
    "\n",
    "\n",
    "Data is bi-weekly"
   ]
  },
  {
   "cell_type": "code",
   "execution_count": 1,
   "id": "3543bbbd",
   "metadata": {},
   "outputs": [],
   "source": [
    "import numpy as np\n",
    "import pandas as pd\n",
    "from datetime import datetime\n",
    "import os\n",
    "import vectorbt as vbt\n",
    "from numba import njit\n",
    "import plotly as plt\n",
    "from vectorbt.portfolio import nb\n",
    "import openpyxl\n",
    "import quantstats as qs\n",
    "from pandas_datareader import data as pdr\n",
    "import yfinance as yfin\n",
    "import glob\n",
    "from csv import reader\n",
    "import time\n",
    "\n",
    "vbt.settings[\"caching\"][\"enabled\"] = False\n",
    "pd.set_option('display.max_columns', None)\n",
    "#pd.set_option('display.max_rows', None)\n",
    "#pd.options.display.max_seq_items = 2000"
   ]
  },
  {
   "cell_type": "code",
   "execution_count": 2,
   "id": "3edc32d1-80e9-47c9-a738-12bf5c3bea0b",
   "metadata": {},
   "outputs": [],
   "source": [
    "#!pip install yfinance==0.2.58"
   ]
  },
  {
   "cell_type": "code",
   "execution_count": 3,
   "id": "d6111253",
   "metadata": {},
   "outputs": [],
   "source": [
    "dataset = \"QQQ\" #should be either \"QQQ\" or \"SNP\"\n",
    "single_params = {\"lookback_period\":250, \"roc_period\": 250, \"stocks\":2}\n",
    "# Vanilla stays with 1 stock, Correl gets 2 Stock, 250/250  is the best.\n",
    "multi_params = {\"min_lookback_period\": 100, \"max_lookback_period\":300,\n",
    "                \"min_roc_period\":100, \"max_roc_period\": 300,\n",
    "               \"step\": 50, \"min_stocks\":5, \"max_stocs\": 5}\n",
    "\n",
    "simulation_type = \"single\" #should be either \"single\" or \"multi\"\n",
    "wild = False\n",
    "update = True"
   ]
  },
  {
   "cell_type": "code",
   "execution_count": 4,
   "id": "38717060",
   "metadata": {},
   "outputs": [],
   "source": [
    "data = None\n",
    "qqq_rank = None"
   ]
  },
  {
   "cell_type": "code",
   "execution_count": 5,
   "id": "b88b27e6-0006-4cf7-a0ef-7e2ba09a9e27",
   "metadata": {},
   "outputs": [
    {
     "name": "stdout",
     "output_type": "stream",
     "text": [
      "['ADBE']\n",
      "YF.download() has changed argument auto_adjust default to True\n"
     ]
    },
    {
     "name": "stderr",
     "output_type": "stream",
     "text": [
      "[*********************100%***********************]  1 of 1 completed\n",
      "[*********************100%***********************]  1 of 1 completed\n"
     ]
    },
    {
     "name": "stdout",
     "output_type": "stream",
     "text": [
      "['AMD']\n",
      "['ABNB']\n"
     ]
    },
    {
     "name": "stderr",
     "output_type": "stream",
     "text": [
      "[*********************100%***********************]  1 of 1 completed\n"
     ]
    },
    {
     "name": "stdout",
     "output_type": "stream",
     "text": [
      "['GOOG']\n"
     ]
    },
    {
     "name": "stderr",
     "output_type": "stream",
     "text": [
      "[*********************100%***********************]  1 of 1 completed\n",
      "[*********************100%***********************]  1 of 1 completed\n"
     ]
    },
    {
     "name": "stdout",
     "output_type": "stream",
     "text": [
      "['AMZN']\n",
      "['AEP']\n"
     ]
    },
    {
     "name": "stderr",
     "output_type": "stream",
     "text": [
      "[*********************100%***********************]  1 of 1 completed\n"
     ]
    },
    {
     "name": "stdout",
     "output_type": "stream",
     "text": [
      "['AMGN']\n"
     ]
    },
    {
     "name": "stderr",
     "output_type": "stream",
     "text": [
      "[*********************100%***********************]  1 of 1 completed\n"
     ]
    },
    {
     "name": "stdout",
     "output_type": "stream",
     "text": [
      "['ADI']\n"
     ]
    },
    {
     "name": "stderr",
     "output_type": "stream",
     "text": [
      "[*********************100%***********************]  1 of 1 completed\n"
     ]
    },
    {
     "name": "stdout",
     "output_type": "stream",
     "text": [
      "['ANSS']\n"
     ]
    },
    {
     "name": "stderr",
     "output_type": "stream",
     "text": [
      "[*********************100%***********************]  1 of 1 completed\n"
     ]
    },
    {
     "name": "stdout",
     "output_type": "stream",
     "text": [
      "['AAPL']\n"
     ]
    },
    {
     "name": "stderr",
     "output_type": "stream",
     "text": [
      "[*********************100%***********************]  1 of 1 completed\n"
     ]
    },
    {
     "name": "stdout",
     "output_type": "stream",
     "text": [
      "['AMAT']\n"
     ]
    },
    {
     "name": "stderr",
     "output_type": "stream",
     "text": [
      "[*********************100%***********************]  1 of 1 completed\n",
      "[*********************100%***********************]  1 of 1 completed"
     ]
    },
    {
     "name": "stdout",
     "output_type": "stream",
     "text": [
      "['APP']\n"
     ]
    },
    {
     "name": "stderr",
     "output_type": "stream",
     "text": [
      "\n"
     ]
    },
    {
     "name": "stdout",
     "output_type": "stream",
     "text": [
      "['ARM']\n"
     ]
    },
    {
     "name": "stderr",
     "output_type": "stream",
     "text": [
      "[*********************100%***********************]  1 of 1 completed\n"
     ]
    },
    {
     "name": "stdout",
     "output_type": "stream",
     "text": [
      "['ASML']\n"
     ]
    },
    {
     "name": "stderr",
     "output_type": "stream",
     "text": [
      "[*********************100%***********************]  1 of 1 completed\n"
     ]
    },
    {
     "name": "stdout",
     "output_type": "stream",
     "text": [
      "['AZN']\n"
     ]
    },
    {
     "name": "stderr",
     "output_type": "stream",
     "text": [
      "[*********************100%***********************]  1 of 1 completed\n",
      "[*********************100%***********************]  1 of 1 completed\n"
     ]
    },
    {
     "name": "stdout",
     "output_type": "stream",
     "text": [
      "['TEAM']\n",
      "['ADSK']\n"
     ]
    },
    {
     "name": "stderr",
     "output_type": "stream",
     "text": [
      "[*********************100%***********************]  1 of 1 completed\n"
     ]
    },
    {
     "name": "stdout",
     "output_type": "stream",
     "text": [
      "['ADP']\n"
     ]
    },
    {
     "name": "stderr",
     "output_type": "stream",
     "text": [
      "[*********************100%***********************]  1 of 1 completed\n"
     ]
    },
    {
     "name": "stdout",
     "output_type": "stream",
     "text": [
      "['AXON']\n"
     ]
    },
    {
     "name": "stderr",
     "output_type": "stream",
     "text": [
      "[*********************100%***********************]  1 of 1 completed\n"
     ]
    },
    {
     "name": "stdout",
     "output_type": "stream",
     "text": [
      "['BKR']\n"
     ]
    },
    {
     "name": "stderr",
     "output_type": "stream",
     "text": [
      "[*********************100%***********************]  1 of 1 completed\n",
      "[*********************100%***********************]  1 of 1 completed\n"
     ]
    },
    {
     "name": "stdout",
     "output_type": "stream",
     "text": [
      "['BIIB']\n",
      "['BKNG']\n"
     ]
    },
    {
     "name": "stderr",
     "output_type": "stream",
     "text": [
      "[*********************100%***********************]  1 of 1 completed\n"
     ]
    },
    {
     "name": "stdout",
     "output_type": "stream",
     "text": [
      "['AVGO']\n"
     ]
    },
    {
     "name": "stderr",
     "output_type": "stream",
     "text": [
      "[*********************100%***********************]  1 of 1 completed\n",
      "[*********************100%***********************]  1 of 1 completed\n"
     ]
    },
    {
     "name": "stdout",
     "output_type": "stream",
     "text": [
      "['CDNS']\n"
     ]
    },
    {
     "name": "stderr",
     "output_type": "stream",
     "text": [
      "[*********************100%***********************]  1 of 1 completed"
     ]
    },
    {
     "name": "stdout",
     "output_type": "stream",
     "text": [
      "['CDW']\n"
     ]
    },
    {
     "name": "stderr",
     "output_type": "stream",
     "text": [
      "\n",
      "[*********************100%***********************]  1 of 1 completed\n"
     ]
    },
    {
     "name": "stdout",
     "output_type": "stream",
     "text": [
      "['CHTR']\n",
      "['CTAS']\n"
     ]
    },
    {
     "name": "stderr",
     "output_type": "stream",
     "text": [
      "[*********************100%***********************]  1 of 1 completed\n"
     ]
    },
    {
     "name": "stdout",
     "output_type": "stream",
     "text": [
      "['CSCO']\n"
     ]
    },
    {
     "name": "stderr",
     "output_type": "stream",
     "text": [
      "[*********************100%***********************]  1 of 1 completed\n"
     ]
    },
    {
     "name": "stdout",
     "output_type": "stream",
     "text": [
      "['CCEP']\n"
     ]
    },
    {
     "name": "stderr",
     "output_type": "stream",
     "text": [
      "[*********************100%***********************]  1 of 1 completed\n"
     ]
    },
    {
     "name": "stdout",
     "output_type": "stream",
     "text": [
      "['CTSH']\n"
     ]
    },
    {
     "name": "stderr",
     "output_type": "stream",
     "text": [
      "[*********************100%***********************]  1 of 1 completed\n"
     ]
    },
    {
     "name": "stdout",
     "output_type": "stream",
     "text": [
      "['CMCSA']\n"
     ]
    },
    {
     "name": "stderr",
     "output_type": "stream",
     "text": [
      "[*********************100%***********************]  1 of 1 completed\n"
     ]
    },
    {
     "name": "stdout",
     "output_type": "stream",
     "text": [
      "['CEG']\n"
     ]
    },
    {
     "name": "stderr",
     "output_type": "stream",
     "text": [
      "[*********************100%***********************]  1 of 1 completed\n"
     ]
    },
    {
     "name": "stdout",
     "output_type": "stream",
     "text": [
      "['CPRT']\n"
     ]
    },
    {
     "name": "stderr",
     "output_type": "stream",
     "text": [
      "[*********************100%***********************]  1 of 1 completed\n",
      "[*********************100%***********************]  1 of 1 completed\n"
     ]
    },
    {
     "name": "stdout",
     "output_type": "stream",
     "text": [
      "['CSGP']\n",
      "['COST']\n"
     ]
    },
    {
     "name": "stderr",
     "output_type": "stream",
     "text": [
      "[*********************100%***********************]  1 of 1 completed\n"
     ]
    },
    {
     "name": "stdout",
     "output_type": "stream",
     "text": [
      "['CRWD']\n"
     ]
    },
    {
     "name": "stderr",
     "output_type": "stream",
     "text": [
      "[*********************100%***********************]  1 of 1 completed\n"
     ]
    },
    {
     "name": "stdout",
     "output_type": "stream",
     "text": [
      "['CSX']\n"
     ]
    },
    {
     "name": "stderr",
     "output_type": "stream",
     "text": [
      "[*********************100%***********************]  1 of 1 completed\n"
     ]
    },
    {
     "name": "stdout",
     "output_type": "stream",
     "text": [
      "['DDOG']\n"
     ]
    },
    {
     "name": "stderr",
     "output_type": "stream",
     "text": [
      "[*********************100%***********************]  1 of 1 completed\n"
     ]
    },
    {
     "name": "stdout",
     "output_type": "stream",
     "text": [
      "['DXCM']\n"
     ]
    },
    {
     "name": "stderr",
     "output_type": "stream",
     "text": [
      "[*********************100%***********************]  1 of 1 completed\n"
     ]
    },
    {
     "name": "stdout",
     "output_type": "stream",
     "text": [
      "['FANG']\n"
     ]
    },
    {
     "name": "stderr",
     "output_type": "stream",
     "text": [
      "[*********************100%***********************]  1 of 1 completed\n",
      "[*********************100%***********************]  1 of 1 completed"
     ]
    },
    {
     "name": "stdout",
     "output_type": "stream",
     "text": [
      "['DASH']\n"
     ]
    },
    {
     "name": "stderr",
     "output_type": "stream",
     "text": [
      "\n"
     ]
    },
    {
     "name": "stdout",
     "output_type": "stream",
     "text": [
      "['EA']\n"
     ]
    },
    {
     "name": "stderr",
     "output_type": "stream",
     "text": [
      "[*********************100%***********************]  1 of 1 completed\n"
     ]
    },
    {
     "name": "stdout",
     "output_type": "stream",
     "text": [
      "['EXC']\n"
     ]
    },
    {
     "name": "stderr",
     "output_type": "stream",
     "text": [
      "[*********************100%***********************]  1 of 1 completed\n"
     ]
    },
    {
     "name": "stdout",
     "output_type": "stream",
     "text": [
      "['FAST']\n"
     ]
    },
    {
     "name": "stderr",
     "output_type": "stream",
     "text": [
      "[*********************100%***********************]  1 of 1 completed\n",
      "[*********************100%***********************]  1 of 1 completed\n"
     ]
    },
    {
     "name": "stdout",
     "output_type": "stream",
     "text": [
      "['FTNT']\n",
      "['GEHC']\n"
     ]
    },
    {
     "name": "stderr",
     "output_type": "stream",
     "text": [
      "[*********************100%***********************]  1 of 1 completed\n"
     ]
    },
    {
     "name": "stdout",
     "output_type": "stream",
     "text": [
      "['GILD']\n"
     ]
    },
    {
     "name": "stderr",
     "output_type": "stream",
     "text": [
      "[*********************100%***********************]  1 of 1 completed\n",
      "[*********************100%***********************]  1 of 1 completed\n"
     ]
    },
    {
     "name": "stdout",
     "output_type": "stream",
     "text": [
      "['GFS']\n",
      "['HON']\n"
     ]
    },
    {
     "name": "stderr",
     "output_type": "stream",
     "text": [
      "[*********************100%***********************]  1 of 1 completed\n"
     ]
    },
    {
     "name": "stdout",
     "output_type": "stream",
     "text": [
      "['IDXX']\n"
     ]
    },
    {
     "name": "stderr",
     "output_type": "stream",
     "text": [
      "[*********************100%***********************]  1 of 1 completed\n"
     ]
    },
    {
     "name": "stdout",
     "output_type": "stream",
     "text": [
      "['INTC']\n"
     ]
    },
    {
     "name": "stderr",
     "output_type": "stream",
     "text": [
      "[*********************100%***********************]  1 of 1 completed\n"
     ]
    },
    {
     "name": "stdout",
     "output_type": "stream",
     "text": [
      "['INTU']\n"
     ]
    },
    {
     "name": "stderr",
     "output_type": "stream",
     "text": [
      "[*********************100%***********************]  1 of 1 completed\n",
      "[*********************100%***********************]  1 of 1 completed\n"
     ]
    },
    {
     "name": "stdout",
     "output_type": "stream",
     "text": [
      "['ISRG']\n",
      "['KDP']\n"
     ]
    },
    {
     "name": "stderr",
     "output_type": "stream",
     "text": [
      "[*********************100%***********************]  1 of 1 completed\n"
     ]
    },
    {
     "name": "stdout",
     "output_type": "stream",
     "text": [
      "['KLAC']\n"
     ]
    },
    {
     "name": "stderr",
     "output_type": "stream",
     "text": [
      "[*********************100%***********************]  1 of 1 completed\n"
     ]
    },
    {
     "name": "stdout",
     "output_type": "stream",
     "text": [
      "['KHC']\n"
     ]
    },
    {
     "name": "stderr",
     "output_type": "stream",
     "text": [
      "[*********************100%***********************]  1 of 1 completed\n",
      "[*********************100%***********************]  1 of 1 completed\n"
     ]
    },
    {
     "name": "stdout",
     "output_type": "stream",
     "text": [
      "['LRCX']\n",
      "['LIN']\n"
     ]
    },
    {
     "name": "stderr",
     "output_type": "stream",
     "text": [
      "[*********************100%***********************]  1 of 1 completed\n",
      "[*********************100%***********************]  1 of 1 completed\n"
     ]
    },
    {
     "name": "stdout",
     "output_type": "stream",
     "text": [
      "['LULU']\n",
      "['MAR']\n"
     ]
    },
    {
     "name": "stderr",
     "output_type": "stream",
     "text": [
      "[*********************100%***********************]  1 of 1 completed\n",
      "[*********************100%***********************]  1 of 1 completed\n"
     ]
    },
    {
     "name": "stdout",
     "output_type": "stream",
     "text": [
      "['MRVL']\n",
      "['MELI']\n"
     ]
    },
    {
     "name": "stderr",
     "output_type": "stream",
     "text": [
      "[*********************100%***********************]  1 of 1 completed\n"
     ]
    },
    {
     "name": "stdout",
     "output_type": "stream",
     "text": [
      "['META']\n"
     ]
    },
    {
     "name": "stderr",
     "output_type": "stream",
     "text": [
      "[*********************100%***********************]  1 of 1 completed\n"
     ]
    },
    {
     "name": "stdout",
     "output_type": "stream",
     "text": [
      "['MCHP']\n"
     ]
    },
    {
     "name": "stderr",
     "output_type": "stream",
     "text": [
      "[*********************100%***********************]  1 of 1 completed\n"
     ]
    },
    {
     "name": "stdout",
     "output_type": "stream",
     "text": [
      "['MU']\n"
     ]
    },
    {
     "name": "stderr",
     "output_type": "stream",
     "text": [
      "[*********************100%***********************]  1 of 1 completed\n"
     ]
    },
    {
     "name": "stdout",
     "output_type": "stream",
     "text": [
      "['MSFT']\n"
     ]
    },
    {
     "name": "stderr",
     "output_type": "stream",
     "text": [
      "[*********************100%***********************]  1 of 1 completed\n",
      "[*********************100%***********************]  1 of 1 completed"
     ]
    },
    {
     "name": "stdout",
     "output_type": "stream",
     "text": [
      "['MSTR']\n"
     ]
    },
    {
     "name": "stderr",
     "output_type": "stream",
     "text": [
      "\n"
     ]
    },
    {
     "name": "stdout",
     "output_type": "stream",
     "text": [
      "['MDLZ']\n"
     ]
    },
    {
     "name": "stderr",
     "output_type": "stream",
     "text": [
      "[*********************100%***********************]  1 of 1 completed\n",
      "[*********************100%***********************]  1 of 1 completed"
     ]
    },
    {
     "name": "stdout",
     "output_type": "stream",
     "text": [
      "['MDB']\n"
     ]
    },
    {
     "name": "stderr",
     "output_type": "stream",
     "text": [
      "\n",
      "[*********************100%***********************]  1 of 1 completed\n"
     ]
    },
    {
     "name": "stdout",
     "output_type": "stream",
     "text": [
      "['MNST']\n",
      "['NFLX']\n"
     ]
    },
    {
     "name": "stderr",
     "output_type": "stream",
     "text": [
      "[*********************100%***********************]  1 of 1 completed\n"
     ]
    },
    {
     "name": "stdout",
     "output_type": "stream",
     "text": [
      "['NVDA']\n"
     ]
    },
    {
     "name": "stderr",
     "output_type": "stream",
     "text": [
      "[*********************100%***********************]  1 of 1 completed\n"
     ]
    },
    {
     "name": "stdout",
     "output_type": "stream",
     "text": [
      "['NXPI']\n"
     ]
    },
    {
     "name": "stderr",
     "output_type": "stream",
     "text": [
      "[*********************100%***********************]  1 of 1 completed\n"
     ]
    },
    {
     "name": "stdout",
     "output_type": "stream",
     "text": [
      "['ORLY']\n"
     ]
    },
    {
     "name": "stderr",
     "output_type": "stream",
     "text": [
      "[*********************100%***********************]  1 of 1 completed\n"
     ]
    },
    {
     "name": "stdout",
     "output_type": "stream",
     "text": [
      "['ODFL']\n"
     ]
    },
    {
     "name": "stderr",
     "output_type": "stream",
     "text": [
      "[*********************100%***********************]  1 of 1 completed\n",
      "[*********************100%***********************]  1 of 1 completed\n"
     ]
    },
    {
     "name": "stdout",
     "output_type": "stream",
     "text": [
      "['ON']\n",
      "['PCAR']\n"
     ]
    },
    {
     "name": "stderr",
     "output_type": "stream",
     "text": [
      "[*********************100%***********************]  1 of 1 completed\n"
     ]
    },
    {
     "name": "stdout",
     "output_type": "stream",
     "text": [
      "['PLTR']\n"
     ]
    },
    {
     "name": "stderr",
     "output_type": "stream",
     "text": [
      "[*********************100%***********************]  1 of 1 completed\n",
      "[*********************100%***********************]  1 of 1 completed\n"
     ]
    },
    {
     "name": "stdout",
     "output_type": "stream",
     "text": [
      "['PANW']\n",
      "['PAYX']\n"
     ]
    },
    {
     "name": "stderr",
     "output_type": "stream",
     "text": [
      "[*********************100%***********************]  1 of 1 completed\n",
      "[*********************100%***********************]  1 of 1 completed\n"
     ]
    },
    {
     "name": "stdout",
     "output_type": "stream",
     "text": [
      "['PYPL']\n"
     ]
    },
    {
     "name": "stderr",
     "output_type": "stream",
     "text": [
      "[*********************100%***********************]  1 of 1 completed\n"
     ]
    },
    {
     "name": "stdout",
     "output_type": "stream",
     "text": [
      "['PDD']\n",
      "['PEP']\n"
     ]
    },
    {
     "name": "stderr",
     "output_type": "stream",
     "text": [
      "[*********************100%***********************]  1 of 1 completed\n"
     ]
    },
    {
     "name": "stdout",
     "output_type": "stream",
     "text": [
      "['QCOM']\n"
     ]
    },
    {
     "name": "stderr",
     "output_type": "stream",
     "text": [
      "[*********************100%***********************]  1 of 1 completed\n",
      "[*********************100%***********************]  1 of 1 completed\n"
     ]
    },
    {
     "name": "stdout",
     "output_type": "stream",
     "text": [
      "['REGN']\n",
      "['ROP']\n"
     ]
    },
    {
     "name": "stderr",
     "output_type": "stream",
     "text": [
      "[*********************100%***********************]  1 of 1 completed\n"
     ]
    },
    {
     "name": "stdout",
     "output_type": "stream",
     "text": [
      "['ROST']\n"
     ]
    },
    {
     "name": "stderr",
     "output_type": "stream",
     "text": [
      "[*********************100%***********************]  1 of 1 completed\n",
      "[*********************100%***********************]  1 of 1 completed\n"
     ]
    },
    {
     "name": "stdout",
     "output_type": "stream",
     "text": [
      "['SBUX']\n",
      "['SNPS']\n"
     ]
    },
    {
     "name": "stderr",
     "output_type": "stream",
     "text": [
      "[*********************100%***********************]  1 of 1 completed\n",
      "[*********************100%***********************]  1 of 1 completed\n"
     ]
    },
    {
     "name": "stdout",
     "output_type": "stream",
     "text": [
      "['TMUS']\n"
     ]
    },
    {
     "name": "stderr",
     "output_type": "stream",
     "text": [
      "[*********************100%***********************]  1 of 1 completed\n"
     ]
    },
    {
     "name": "stdout",
     "output_type": "stream",
     "text": [
      "['TTWO']\n",
      "['TSLA']\n"
     ]
    },
    {
     "name": "stderr",
     "output_type": "stream",
     "text": [
      "[*********************100%***********************]  1 of 1 completed\n"
     ]
    },
    {
     "name": "stdout",
     "output_type": "stream",
     "text": [
      "['TXN']\n"
     ]
    },
    {
     "name": "stderr",
     "output_type": "stream",
     "text": [
      "[*********************100%***********************]  1 of 1 completed\n",
      "[*********************100%***********************]  1 of 1 completed\n"
     ]
    },
    {
     "name": "stdout",
     "output_type": "stream",
     "text": [
      "['TTD']\n",
      "['VRSK']\n"
     ]
    },
    {
     "name": "stderr",
     "output_type": "stream",
     "text": [
      "[*********************100%***********************]  1 of 1 completed\n",
      "[*********************100%***********************]  1 of 1 completed\n"
     ]
    },
    {
     "name": "stdout",
     "output_type": "stream",
     "text": [
      "['VRTX']\n",
      "['WBD']\n"
     ]
    },
    {
     "name": "stderr",
     "output_type": "stream",
     "text": [
      "[*********************100%***********************]  1 of 1 completed\n",
      "[*********************100%***********************]  1 of 1 completed\n"
     ]
    },
    {
     "name": "stdout",
     "output_type": "stream",
     "text": [
      "['WDAY']\n",
      "['XEL']\n"
     ]
    },
    {
     "name": "stderr",
     "output_type": "stream",
     "text": [
      "[*********************100%***********************]  1 of 1 completed\n",
      "[*********************100%***********************]  1 of 1 completed\n"
     ]
    },
    {
     "name": "stdout",
     "output_type": "stream",
     "text": [
      "['ZS']\n"
     ]
    },
    {
     "name": "stderr",
     "output_type": "stream",
     "text": [
      "[*********************100%***********************]  1 of 1 completed\n"
     ]
    }
   ],
   "source": [
    "if update == True:\n",
    "    # Data update\n",
    "    #outdated...\n",
    "    #yfin.pdr_override()\n",
    "    # open file in read mode\n",
    "    from1 = \"2023-12-02\"\n",
    "    to = \"2025-07-18\"\n",
    "    #Delete all\n",
    "    fileList = glob.glob(r'/home/john/stocks/Data/QQQ/*.csv')\n",
    "    \n",
    "    for filePath in fileList:\n",
    "        try:\n",
    "            os.remove(filePath)\n",
    "        except:\n",
    "            print(\"Error while deleting file : \", filePath)\n",
    "\n",
    "    if wild == True:\n",
    "        paf = r'/home/john/stocks/Data/WILD.csv'\n",
    "    else:\n",
    "        paf = r'/home/john/stocks/Data/NASDAQ20231210.csv'\n",
    "    \n",
    "    #Download all\n",
    "    with open(paf, 'r') as read_obj:\n",
    "        # pass the file object to reader() to get the reader object\n",
    "        csv_reader = reader(read_obj)\n",
    "        # Iterate over each row in the csv using reader object\n",
    "        downloads = {}\n",
    "        t = 1\n",
    "        for row in csv_reader:\n",
    "            # row variable is a list that represents a row in csv\n",
    "            string = ''\n",
    "            path = r'/home/john/stocks/Data/QQQ/'\n",
    "            print(row)\n",
    "            \n",
    "            try:\n",
    "                hist = yfin.download(string.join(row), from1, to)\n",
    "                #time. sleep(3)\n",
    "                #hist = web.DataReader(string.join(row), 'yahoo', from1, to)\n",
    "            except:\n",
    "                print(\"Not available with Yahoo: \",row)\n",
    "    \n",
    "            downloads[t] = len(hist)\n",
    "            if downloads[t] == downloads[1]:\n",
    "                hist.to_csv(path + string.join(row) + '.csv')\n",
    "            else:\n",
    "              print(\"Stock not the full time on exchange\", str(row))\n",
    "            t += 1\n",
    "\n",
    "    #Download Benchmark\n",
    "    \n",
    "    row = \"QQQ\"\n",
    "    string = ''\n",
    "    path = '/home/john/stocks/Data/QQQ/'\n",
    "    hist = yfin.download(string.join(row), from1, to)\n",
    "    hist.to_csv(path + string.join(row) + '.csv')\n",
    "    "
   ]
  },
  {
   "cell_type": "code",
   "execution_count": 6,
   "id": "0e44550c",
   "metadata": {
    "editable": true,
    "slideshow": {
     "slide_type": ""
    },
    "tags": []
   },
   "outputs": [
    {
     "name": "stdout",
     "output_type": "stream",
     "text": [
      "['AMZN.csv', 'DXCM.csv', 'AEP.csv', 'AVGO.csv', 'HON.csv', 'APP.csv', 'CCEP.csv', 'CSX.csv', 'MAR.csv', 'ADBE.csv', 'QCOM.csv', 'CDW.csv', 'FAST.csv', 'ROST.csv', 'PDD.csv', 'MDB.csv', 'TEAM.csv', 'ADSK.csv', 'QQQ.csv', 'CEG.csv', 'FTNT.csv', 'CDNS.csv', 'PANW.csv', 'BIIB.csv', 'LIN.csv', 'VRTX.csv', 'EXC.csv', 'SBUX.csv', 'ISRG.csv', 'MCHP.csv', 'PEP.csv', 'ADI.csv', 'BKNG.csv', 'TSLA.csv', 'NFLX.csv', 'VRSK.csv', 'CHTR.csv', 'TMUS.csv', 'AMGN.csv', 'ON.csv', 'MNST.csv', 'AMD.csv', 'ASML.csv', 'DDOG.csv', 'MRVL.csv', 'TTWO.csv', 'NXPI.csv', 'KDP.csv', 'REGN.csv', 'ROP.csv', 'MSFT.csv', 'INTC.csv', 'KHC.csv', 'ANSS.csv', 'XEL.csv', 'TXN.csv', 'CMCSA.csv', 'PLTR.csv', 'CSCO.csv', 'LRCX.csv', 'CTAS.csv', 'GEHC.csv', 'IDXX.csv', 'ARM.csv', 'FANG.csv', 'MDLZ.csv', 'WBD.csv', 'GOOG.csv', 'SNPS.csv', 'PYPL.csv', 'ADP.csv', 'BKR.csv', 'LULU.csv', 'CRWD.csv', 'MSTR.csv', 'CSGP.csv', 'MELI.csv', 'ORLY.csv', 'EA.csv', 'META.csv', 'ABNB.csv', 'CTSH.csv', 'GFS.csv', 'ZS.csv', 'INTU.csv', 'NVDA.csv', 'AAPL.csv', 'AMAT.csv', 'KLAC.csv', 'PAYX.csv', 'WDAY.csv', 'DASH.csv', 'AZN.csv', 'GILD.csv', 'CPRT.csv', 'ODFL.csv', 'TTD.csv', 'AXON.csv', 'COST.csv', 'PCAR.csv', 'MU.csv']\n"
     ]
    }
   ],
   "source": [
    "if dataset == \"QQQ\":\n",
    "    DIR = \"/home/john/stocks/Data/QQQ/\"\n",
    "\n",
    "    def load_data(directory):\n",
    "        files = os.listdir(directory)\n",
    "        print(files)\n",
    "        stock_series = []\n",
    "        cur = None\n",
    "        cur_keys = []\n",
    "\n",
    "        def get_data(file):\n",
    "            path = f\"{directory}/{file}\"    \n",
    "            df = pd.read_csv(path)\n",
    "            df = df.drop([0,1])\n",
    "            df = df.rename(columns={\"Price\":\"Date\"})\n",
    "            df = df.set_index(\"Date\")\n",
    "            df = df[[\"Close\"]]\n",
    "            return df\n",
    "\n",
    "\n",
    "        for file in files:\n",
    "            new_one = get_data(file)\n",
    "            cur_keys.append(file.replace(\".csv\", \"\"))\n",
    "            stock_series.append(new_one)\n",
    "            \n",
    "        \n",
    "        data = pd.concat(stock_series, axis = 1, keys = cur_keys)     \n",
    "        data.vbt.drop_levels(-1, inplace=True)    \n",
    "        return data\n",
    "\n",
    "    data = load_data(DIR)\n",
    "    qqq_rank = data[\"QQQ\"]\n",
    "    data = data.drop(columns=[\"QQQ\"])\n",
    "    data.dropna(subset = data.columns, how = 'all', inplace = True)\n",
    "elif dataset == \"SNP\":\n",
    "    DIR = \"/home/john/stocks/Data/snp500_cleaned/\"\n",
    "    def load_data(directory):\n",
    "        files = os.listdir(directory)\n",
    "        stock_series = []\n",
    "        cur = None\n",
    "        cur_keys = []\n",
    "        def get_data(file):\n",
    "            path = f\"{directory}/{file}\"    \n",
    "            df = pd.read_csv(path)\n",
    "            try:\n",
    "                df = df.set_index(\"Date\")\n",
    "            except Exception as e:\n",
    "                print(file)\n",
    "            return df\n",
    "\n",
    "\n",
    "        for file in files:\n",
    "            new_one = get_data(file)\n",
    "            cur_keys.append(file.replace(\".csv\", \"\"))\n",
    "            stock_series.append(new_one)\n",
    "        \n",
    "        \n",
    "        data = pd.concat(stock_series, axis = 1, keys = cur_keys)\n",
    "        data.vbt.drop_levels(-1, inplace=True)\n",
    "        \n",
    "        return data\n",
    "\n",
    "    data = load_data(DIR)\n",
    "    ##Fill nans with either previous value or next value\n",
    "    for col in data.columns:\n",
    "        data[col] = data[col].ffill()\n",
    "        data[col] = data[col].bfill()\n",
    "    \n",
    "    data.index = pd.to_datetime(data.index)\n",
    "    \n",
    "data = data.astype(float)\n",
    "data = data[data.index > \"2010-06-10\"] #remove everything else\n",
    "#data = data[data.index < \"2023-09-02\"]"
   ]
  },
  {
   "cell_type": "code",
   "execution_count": 7,
   "id": "9b3bbf10",
   "metadata": {},
   "outputs": [
    {
     "data": {
      "text/plain": [
       "(405, 100)"
      ]
     },
     "execution_count": 7,
     "metadata": {},
     "output_type": "execute_result"
    }
   ],
   "source": [
    "\n",
    "data.shape"
   ]
  },
  {
   "cell_type": "code",
   "execution_count": 8,
   "id": "9b425d19",
   "metadata": {
    "editable": true,
    "slideshow": {
     "slide_type": ""
    },
    "tags": []
   },
   "outputs": [],
   "source": [
    "def momentum(data, lookback_period, roc_period):\n",
    "    \n",
    "    shifted_values = np.zeros(data.shape)\n",
    "    shifted_values[:shifted_values.shape[0] - roc_period, :] = data[roc_period:, :]\n",
    "    \n",
    "    roc = ((shifted_values - data) / data) * 100\n",
    "    roc = roc[:roc.shape[0] - roc_period, :]\n",
    "    roc = np.ceil(roc)\n",
    "    const = np.full(roc.shape, 0)\n",
    "    roc = np.maximum(const, roc)\n",
    "    const = np.full(roc.shape, 1)\n",
    "    roc = np.minimum(const, roc)\n",
    "    \n",
    "    \n",
    "    xxx = np.vstack([np.arange(lookback_period), np.ones(lookback_period)]).T\n",
    "    values = np.zeros((data.shape[0] - lookback_period, data.shape[1]))  \n",
    "    correl = np.zeros((data.shape[0] - lookback_period, data.shape[1]))  \n",
    "    sortino = np.zeros((data.shape[0] - lookback_period, data.shape[1]))\n",
    "\n",
    "    def sortino_ratio(series, N):\n",
    "        mean = np.mean(series, axis = 1) * N\n",
    "        for i in range(series.shape[0]):\n",
    "            row = series[i]\n",
    "            std_neg = np.std(row) * np.sqrt(N)\n",
    "            mean[i] = mean[i] / std_neg\n",
    "        \n",
    "        return mean \n",
    "    \n",
    "    for i in range(data.shape[1]):\n",
    "        cur_data = np.log(data[:, i])\n",
    "\n",
    "        # Sortino Ratio\n",
    "        # pct_change = np.zeros(data[:, i].shape)\n",
    "        # pct_change[1:] = np.diff(data[:, i]) / data[:, i][:-1] * 100\n",
    "        # print(data[:, i].shape, pct_change.shape)\n",
    "        \n",
    "        view = np.lib.stride_tricks.sliding_window_view(cur_data, (lookback_period,))[1:, :]\n",
    "        lin_reg=(np.linalg.inv(xxx.T @ xxx) @ (xxx.T) @ view.T)\n",
    "                \n",
    "        # slope\n",
    "        roll_mat = lin_reg[0]\n",
    "        \n",
    "        #intercept\n",
    "        lin_reg_b = lin_reg[1]\n",
    "\n",
    "        x = view\n",
    "        \n",
    "        line = [i for i in range(len(view[0]))]\n",
    "        m = np.tile(roll_mat[:, np.newaxis], x.shape[1])\n",
    "        n = np.tile(lin_reg_b[:, np.newaxis], x.shape[1])\n",
    "        y = np.multiply(line,m) + n\n",
    "\n",
    "        #correlation\n",
    "        samples = x.shape[1]\n",
    "        centered_x = x - np.mean(x, axis=1, keepdims=True)\n",
    "        centered_y = y - np.mean(y, axis=1, keepdims=True)\n",
    "        cov_xy = np.mean(centered_x * centered_y, axis=1)\n",
    "        var_x = np.mean(centered_x**2, axis=1)\n",
    "        var_y = np.mean(centered_y**2, axis=1)\n",
    "        corrcoef_xy = cov_xy / (np.sqrt(var_x *var_y))\n",
    "        \n",
    "        correl[:,i] = corrcoef_xy\n",
    "        values[:, i] = roll_mat\n",
    "        \n",
    "        # Sortino part 2\n",
    "        # pct_change_view = np.lib.stride_tricks.sliding_window_view(pct_change, (lookback_period,))[1:, :]\n",
    "        # temp = sortino_ratio(pct_change_view, lookback_period)\n",
    "        # sortino[:, i] = temp\n",
    "        \n",
    "    values = 1 + values\n",
    "    values = np.power(values, 252)\n",
    "\n",
    "    if roc.shape[0] - values.shape[0] >= 0:\n",
    "        new_shape = roc.shape[0] - values.shape[0]\n",
    "        roc = roc[new_shape:, :]\n",
    "    else:\n",
    "        new_shape = values.shape[0] - roc.shape[0]\n",
    "        values = values[new_shape:, :]\n",
    "        correl = correl[new_shape:, :]\n",
    "        sortino = sortino[new_shape:, :]\n",
    "\n",
    "    # Final calculation  \n",
    "    res = roc * values #* correl\n",
    "    \n",
    "    original = np.full((data.shape[0], data.shape[1]), np.nan)\n",
    "    original[original.shape[0] - res.shape[0]:, :] = res\n",
    "    return original\n",
    "\n",
    "\n",
    "def bi_weekly(ranks, data):\n",
    "    data.index = pd.to_datetime(data.index)\n",
    "    monday_data = data[data.index.weekday == 0]\n",
    "    bi_weekly_data = monday_data.iloc[::2, :]\n",
    "    \n",
    "    \n",
    "    ranks.index = pd.to_datetime(ranks.index)\n",
    "    monday_ranks = ranks[ranks.index.weekday == 0] ## 0 is Monday\n",
    "    bi_weekly_ranks = monday_ranks.iloc[::2, :]\n",
    "    return bi_weekly_ranks, bi_weekly_data\n",
    "    \n",
    "\n",
    "def strategy(ranks, stock_selected):\n",
    "    ##For multi level index columns\n",
    "    size = np.full(ranks.shape, fill_value=np.nan)\n",
    "    np_ranks = ranks\n",
    "    n_stocks = bi_weekly_data.shape[1]\n",
    "    for i in range(0, np_ranks.shape[1] // n_stocks):\n",
    "        cur_batch = np_ranks[:, i * n_stocks:(i + 1) * n_stocks]\n",
    "        \n",
    "        argsort_indices = np.argsort(cur_batch, axis = 1) ##sort across row to get the best 2 stocks\n",
    "        max_indices = argsort_indices[:, -1 * stock_selected :]\n",
    "                \n",
    "        ##skip those where ranks are not known , so first lookback period entries\n",
    "        last_row_with_nan = np.where(np.isnan(cur_batch))[0][-1]\n",
    "        ##Generate size matrix, where share is 0.95 / number of stocks, among max amount number of stocks\n",
    "        for row, entry in enumerate(max_indices):\n",
    "            if row <= last_row_with_nan: continue\n",
    "            prev = row - 1\n",
    "            if prev == last_row_with_nan + 1:\n",
    "                ##initial buy\n",
    "                entry = [(i * n_stocks) + x for x in entry]\n",
    "                size[row, entry] = 0.95 / stock_selected ##OPEN current ones\n",
    "            elif prev > last_row_with_nan + 1:\n",
    "                entry = [(i * n_stocks) + x for x in entry]\n",
    "                \n",
    "                prev_entries = max_indices[prev]\n",
    "                prev_entries = [(i * n_stocks) + x for x in prev_entries]\n",
    "                if prev_entries == entry:\n",
    "                    continue\n",
    "\n",
    "                size[row, prev_entries] = 0 ##CLOSE the previous ones\n",
    "\n",
    "                size[row, entry] = 0.95 / stock_selected ##OPEN current ones\n",
    "    \n",
    "    return size"
   ]
  },
  {
   "cell_type": "code",
   "execution_count": 9,
   "id": "86b2fdec",
   "metadata": {},
   "outputs": [],
   "source": [
    "logging = True if simulation_type == \"single\" else False\n",
    "@njit\n",
    "def pre_segment_func_multi_nb(c, price, sizes_np):\n",
    "    \"\"\"Perform rebalancing at a timestamp.\"\"\"\n",
    "\n",
    "    for col in range(c.from_col, c.to_col):\n",
    "        # Target percentage requires knowing the value of all assets in the group\n",
    "        # Let's calculate this value using the current order price (remove this to use previous close)\n",
    "        c.last_val_price[col] = nb.get_col_elem_nb(c, col, price)\n",
    "        \n",
    "    # Fill the size array\n",
    "    size = sizes_np[c.i]\n",
    "    # Sort by order value to first sell the current positions to release funds\n",
    "    order_value_out = np.empty(c.group_len, dtype=np.float_)\n",
    "    nb.sort_call_seq_nb(c, size, 5, 0, order_value_out)\n",
    "    \n",
    "    # Forward size to order_func_nb\n",
    "    return (size,)\n",
    "\n",
    "@njit\n",
    "def order_func_multi_nb(c, size, price):\n",
    "#     print(\"here/\")\n",
    "    \"\"\"Create an order. Gets only executed if the current segment is active.\"\"\"\n",
    "    return nb.order_nb(\n",
    "        size=nb.get_elem_nb(c, size),\n",
    "        price=nb.get_elem_nb(c, price),\n",
    "        size_type = 5,\n",
    "        direction = 0,\n",
    "        fixed_fees = 7,\n",
    "        log=logging,\n",
    "    )"
   ]
  },
  {
   "cell_type": "code",
   "execution_count": 10,
   "id": "6dfd509b",
   "metadata": {},
   "outputs": [],
   "source": [
    "def change_data_like_weights(data, weights):\n",
    "    temp = data.copy()\n",
    "    repeats_n = weights.shape[1] // data.shape[1]\n",
    "    mutli_index = weights.columns\n",
    "    temp = temp.to_numpy()\n",
    "    temp = np.tile(temp, repeats_n)\n",
    "    assert temp.shape == weights.shape\n",
    "    \n",
    "    return pd.DataFrame(data = temp, index = data.index, columns = mutli_index)"
   ]
  },
  {
   "cell_type": "code",
   "execution_count": 11,
   "id": "69efb6eb",
   "metadata": {},
   "outputs": [],
   "source": [
    "indicator = vbt.IndicatorFactory(class_name = \"momentum_indicator\",\n",
    "                            short_name = \"momentum\",\n",
    "                            input_names=[\"data\"],\n",
    "                            param_names=[\"lookback_period\",\"roc_period\"],\n",
    "                            output_names=[\"momentum\"]\n",
    "                             ).from_apply_func(\n",
    "                                momentum,\n",
    "                                lookback_period = single_params[\"lookback_period\"],\n",
    "                                roc_period = single_params[\"roc_period\"]\n",
    "                             )\n",
    "\n",
    "strategy = vbt.IndicatorFactory(class_name = \"momentum_indicator\",\n",
    "                                short_name = \"strategy\",\n",
    "                                input_names=[\"ranks\"],\n",
    "                                param_names=[\"stocks\"],\n",
    "                                output_names=[\"weights\"]\n",
    "                                 ).from_apply_func(\n",
    "                                    strategy,\n",
    "                                    stocks = single_params[\"stocks\"]\n",
    "                                    \n",
    "                                 )"
   ]
  },
  {
   "cell_type": "code",
   "execution_count": 12,
   "id": "62c965df-0163-41f3-892b-bca63c9b045a",
   "metadata": {},
   "outputs": [],
   "source": [
    "res = indicator.run(data)"
   ]
  },
  {
   "cell_type": "code",
   "execution_count": 13,
   "id": "ab6efc77",
   "metadata": {},
   "outputs": [],
   "source": [
    "def generate_args():\n",
    "    lookback_periods = []\n",
    "    orcs = []\n",
    "    \n",
    "    for x in range(multi_params[\"min_lookback_period\"], multi_params[\"max_lookback_period\"] +1, multi_params[\"step\"]):\n",
    "        for y in range(multi_params[\"min_roc_period\"], multi_params[\"max_roc_period\"] + 1, multi_params[\"step\"]):\n",
    "            lookback_periods.append(x)\n",
    "            orcs.append(y)\n",
    "        \n",
    "    return lookback_periods, orcs"
   ]
  },
  {
   "cell_type": "code",
   "execution_count": 14,
   "id": "36c507fe",
   "metadata": {},
   "outputs": [],
   "source": [
    "if simulation_type == \"single\":\n",
    "    ##Get ranks\n",
    "    results = indicator.run(data)\n",
    "\n",
    "    ##Get biwebi_weekly ranks\n",
    "    bi_weekly_ranks, bi_weekly_data = bi_weekly(results.momentum, data)\n",
    "    #del results\n",
    "    ##Generate sizes\n",
    "    strategy_res = strategy.run(bi_weekly_ranks)\n",
    "    # Define rebalancing dates (= active segments)\n",
    "    segment_mask = pd.Series(True, index=strategy_res.weights.index)\n",
    "    price = bi_weekly_data  #actual prices\n",
    "    group = True\n",
    "    \n",
    "else:\n",
    "    lookback_periods, rocs = generate_args()\n",
    "    results = indicator.run(data, lookback_periods, rocs)\n",
    "    bi_weekly_ranks, bi_weekly_data = bi_weekly(results.momentum, data)\n",
    "    del results\n",
    "    strategy_res = strategy.run(bi_weekly_ranks, [i for i in range(multi_params[\"min_stocks\"],\n",
    "                                                                                multi_params[\"max_stocs\"] +1)])\n",
    "    price = change_data_like_weights(bi_weekly_data, strategy_res.weights)\n",
    "    group = [0,1,2]"
   ]
  },
  {
   "cell_type": "code",
   "execution_count": 15,
   "id": "701638ec",
   "metadata": {},
   "outputs": [],
   "source": [
    "# Define rebalancing dates (= active segments)\n",
    "segment_mask = pd.Series(True, index=strategy_res.weights.index)  \n",
    "# Define and run the simulation\n",
    "\n",
    "pf = vbt.Portfolio.from_order_func(\n",
    "    price,\n",
    "    order_func_multi_nb,\n",
    "    vbt.Rep('price'),  # *args passed to order_func_nb\n",
    "    pre_segment_func_nb=pre_segment_func_multi_nb,\n",
    "    pre_segment_args=(\n",
    "        vbt.Rep('price'),\n",
    "        strategy_res.weights.to_numpy(),\n",
    "        ),\n",
    "    broadcast_named_args=dict(  # broadcast to a single shape\n",
    "        price=price,\n",
    "    ),\n",
    "    group_by=group,\n",
    "    segment_mask=segment_mask,\n",
    "    init_cash = 10000000,\n",
    "    freq=\"1W\",\n",
    "    cash_sharing=True # share cash within each split\n",
    ")"
   ]
  },
  {
   "cell_type": "code",
   "execution_count": 16,
   "id": "3f294f3b",
   "metadata": {},
   "outputs": [
    {
     "name": "stdout",
     "output_type": "stream",
     "text": [
      "Start                         2023-12-04 00:00:00\n",
      "End                           2025-07-07 00:00:00\n",
      "Period                          266 days 00:00:00\n",
      "Start Value                            10000000.0\n",
      "End Value                          12395442.70017\n",
      "Total Return [%]                        23.954427\n",
      "Benchmark Return [%]                    52.408954\n",
      "Max Gross Exposure [%]                  96.147165\n",
      "Total Fees Paid                              49.0\n",
      "Max Drawdown [%]                        27.795807\n",
      "Max Drawdown Duration            28 days 00:00:00\n",
      "Total Trades                                    5\n",
      "Total Closed Trades                             3\n",
      "Total Open Trades                               2\n",
      "Open Trade PnL                     2365386.333566\n",
      "Win Rate [%]                            66.666667\n",
      "Best Trade [%]                          67.087799\n",
      "Worst Trade [%]                        -15.033343\n",
      "Avg Winning Trade [%]                   36.665532\n",
      "Avg Losing Trade [%]                   -15.033343\n",
      "Avg Winning Trade Duration       42 days 00:00:00\n",
      "Avg Losing Trade Duration        21 days 00:00:00\n",
      "Profit Factor                            1.042091\n",
      "Expectancy                           10018.788868\n",
      "Sharpe Ratio                             0.756131\n",
      "Calmar Ratio                             1.232846\n",
      "Omega Ratio                              1.615893\n",
      "Sortino Ratio                            1.228771\n",
      "Name: group, dtype: object\n"
     ]
    }
   ],
   "source": [
    "if simulation_type == \"single\":\n",
    "    print(pf.stats())\n",
    "elif simulation_type == \"multi\":\n",
    "    fig = pf.total_profit().vbt.heatmap(\n",
    "        x_level='momentum_roc_period', y_level='momentum_lookback_period', slider_level=\"strategy_stocks\", symmetric=True,\n",
    "        trace_kwargs=dict(colorbar=dict(title='Total return', tickformat='0.0')))\n",
    "    fig.show()"
   ]
  },
  {
   "cell_type": "code",
   "execution_count": 17,
   "id": "151dc679",
   "metadata": {},
   "outputs": [],
   "source": [
    "if simulation_type == \"multi\":\n",
    "    pf.total_profit(group_by=False)\n",
    "    plt.offline.plot(fig, filename='heatmap.html')\n",
    "    pf[(1, 100, 100)].plot() ##cumulative returns"
   ]
  },
  {
   "cell_type": "code",
   "execution_count": 18,
   "id": "4c4fd444",
   "metadata": {},
   "outputs": [],
   "source": [
    "if simulation_type == \"single\":\n",
    "    pf.orders.records_readable.to_csv(\"orders.csv\")\n",
    "    pf.logs.records.to_csv(\"logs.csv\")"
   ]
  },
  {
   "cell_type": "code",
   "execution_count": 19,
   "id": "a3da3f43-1fed-4b0b-8d19-25f587964611",
   "metadata": {},
   "outputs": [],
   "source": [
    "pf.stats(agg_func=None).to_excel(\"stats.xlsx\")"
   ]
  },
  {
   "cell_type": "code",
   "execution_count": 20,
   "id": "21166dbc-ce66-41be-96f8-d8f9e29acf5f",
   "metadata": {
    "scrolled": true
   },
   "outputs": [],
   "source": [
    "if simulation_type == \"single\":\n",
    "    pf.plot_drawdowns()\n",
    "else:\n",
    "    pf[(1, 200, 250)].plot_drawdowns()"
   ]
  },
  {
   "cell_type": "code",
   "execution_count": 21,
   "id": "60ed5520-43ba-4409-b3d2-96ee6b728134",
   "metadata": {},
   "outputs": [
    {
     "name": "stderr",
     "output_type": "stream",
     "text": [
      "/home/john/stocks/vectorBT_simulations/.env/lib/python3.10/site-packages/numpy/core/fromnumeric.py:84: FutureWarning:\n",
      "\n",
      "The behavior of DataFrame.prod with axis=None is deprecated, in a future version this will reduce over both axes and return a scalar. To retain the old behavior, pass axis=0 (or do not pass axis)\n",
      "\n",
      "/home/john/stocks/vectorBT_simulations/.env/lib/python3.10/site-packages/numpy/core/fromnumeric.py:84: FutureWarning:\n",
      "\n",
      "The behavior of DataFrame.prod with axis=None is deprecated, in a future version this will reduce over both axes and return a scalar. To retain the old behavior, pass axis=0 (or do not pass axis)\n",
      "\n",
      "/home/john/stocks/vectorBT_simulations/.env/lib/python3.10/site-packages/numpy/core/fromnumeric.py:84: FutureWarning:\n",
      "\n",
      "The behavior of DataFrame.prod with axis=None is deprecated, in a future version this will reduce over both axes and return a scalar. To retain the old behavior, pass axis=0 (or do not pass axis)\n",
      "\n"
     ]
    }
   ],
   "source": [
    "pf.qs.html_report(output='/home/john/stocks/vectorBT_simulations/ts.html')\n",
    "#pf.qs.full_report()"
   ]
  },
  {
   "cell_type": "code",
   "execution_count": 22,
   "id": "6650c66b-8f19-4741-b965-a7f27bff2ca2",
   "metadata": {},
   "outputs": [
    {
     "name": "stdout",
     "output_type": "stream",
     "text": [
      "Date\n",
      "2025-07-07    17365.75\n",
      "Name: APP, dtype: float64\n"
     ]
    }
   ],
   "source": [
    "if simulation_type == \"single\":\n",
    "    holdings1 = pf.assets()[-1:]\n",
    "    for col in holdings1.columns:\n",
    "        if holdings1[col].max() > 0:\n",
    "            column_header = col\n",
    "            break\n",
    "    print(holdings1[column_header])"
   ]
  },
  {
   "cell_type": "code",
   "execution_count": 23,
   "id": "3275cc5e-58d4-4ad0-af97-960222e67b9a",
   "metadata": {},
   "outputs": [],
   "source": [
    "pd.set_option('display.max_rows', 5000)\n",
    "pd.options.display.max_seq_items = 5000"
   ]
  },
  {
   "cell_type": "code",
   "execution_count": 24,
   "id": "76e3f777-730f-476b-bc21-c5d6f9683105",
   "metadata": {},
   "outputs": [
    {
     "data": {
      "text/html": [
       "<div>\n",
       "<style scoped>\n",
       "    .dataframe tbody tr th:only-of-type {\n",
       "        vertical-align: middle;\n",
       "    }\n",
       "\n",
       "    .dataframe tbody tr th {\n",
       "        vertical-align: top;\n",
       "    }\n",
       "\n",
       "    .dataframe thead th {\n",
       "        text-align: right;\n",
       "    }\n",
       "</style>\n",
       "<table border=\"1\" class=\"dataframe\">\n",
       "  <thead>\n",
       "    <tr style=\"text-align: right;\">\n",
       "      <th></th>\n",
       "      <th>PLTR</th>\n",
       "      <th>APP</th>\n",
       "      <th>MSTR</th>\n",
       "      <th>AXON</th>\n",
       "      <th>NFLX</th>\n",
       "      <th>CRWD</th>\n",
       "      <th>DASH</th>\n",
       "      <th>TTWO</th>\n",
       "      <th>AVGO</th>\n",
       "      <th>ZS</th>\n",
       "      <th>FTNT</th>\n",
       "      <th>GILD</th>\n",
       "      <th>CEG</th>\n",
       "      <th>BKNG</th>\n",
       "      <th>CSCO</th>\n",
       "      <th>TSLA</th>\n",
       "      <th>WBD</th>\n",
       "      <th>TEAM</th>\n",
       "      <th>META</th>\n",
       "      <th>TMUS</th>\n",
       "      <th>MELI</th>\n",
       "      <th>CCEP</th>\n",
       "      <th>ORLY</th>\n",
       "      <th>MNST</th>\n",
       "      <th>FAST</th>\n",
       "      <th>EXC</th>\n",
       "      <th>PAYX</th>\n",
       "      <th>XEL</th>\n",
       "      <th>ADP</th>\n",
       "      <th>COST</th>\n",
       "      <th>VRSK</th>\n",
       "      <th>AMZN</th>\n",
       "      <th>CHTR</th>\n",
       "      <th>ISRG</th>\n",
       "      <th>PANW</th>\n",
       "      <th>ADSK</th>\n",
       "      <th>INTU</th>\n",
       "      <th>NVDA</th>\n",
       "      <th>AEP</th>\n",
       "      <th>BKR</th>\n",
       "      <th>MAR</th>\n",
       "      <th>CTAS</th>\n",
       "      <th>CDNS</th>\n",
       "      <th>HON</th>\n",
       "      <th>KLAC</th>\n",
       "      <th>MSFT</th>\n",
       "      <th>ANSS</th>\n",
       "      <th>LRCX</th>\n",
       "      <th>CSGP</th>\n",
       "      <th>CTSH</th>\n",
       "      <th>IDXX</th>\n",
       "      <th>SBUX</th>\n",
       "      <th>GOOG</th>\n",
       "      <th>LIN</th>\n",
       "      <th>EA</th>\n",
       "      <th>ADI</th>\n",
       "      <th>DDOG</th>\n",
       "      <th>PYPL</th>\n",
       "      <th>KDP</th>\n",
       "      <th>MDLZ</th>\n",
       "      <th>TXN</th>\n",
       "      <th>SNPS</th>\n",
       "      <th>MRVL</th>\n",
       "      <th>AMD</th>\n",
       "      <th>TTD</th>\n",
       "      <th>ODFL</th>\n",
       "      <th>CPRT</th>\n",
       "      <th>AAPL</th>\n",
       "      <th>ABNB</th>\n",
       "      <th>PCAR</th>\n",
       "      <th>AMAT</th>\n",
       "      <th>WDAY</th>\n",
       "      <th>GFS</th>\n",
       "      <th>AZN</th>\n",
       "      <th>INTC</th>\n",
       "      <th>LULU</th>\n",
       "      <th>PEP</th>\n",
       "      <th>CSX</th>\n",
       "      <th>ADBE</th>\n",
       "      <th>QCOM</th>\n",
       "      <th>CDW</th>\n",
       "      <th>ROST</th>\n",
       "      <th>PDD</th>\n",
       "      <th>MDB</th>\n",
       "      <th>BIIB</th>\n",
       "      <th>VRTX</th>\n",
       "      <th>MCHP</th>\n",
       "      <th>AMGN</th>\n",
       "      <th>FANG</th>\n",
       "      <th>ON</th>\n",
       "      <th>ASML</th>\n",
       "      <th>NXPI</th>\n",
       "      <th>REGN</th>\n",
       "      <th>ROP</th>\n",
       "      <th>DXCM</th>\n",
       "      <th>KHC</th>\n",
       "      <th>CMCSA</th>\n",
       "      <th>GEHC</th>\n",
       "      <th>ARM</th>\n",
       "      <th>MU</th>\n",
       "    </tr>\n",
       "    <tr>\n",
       "      <th>Date</th>\n",
       "      <th></th>\n",
       "      <th></th>\n",
       "      <th></th>\n",
       "      <th></th>\n",
       "      <th></th>\n",
       "      <th></th>\n",
       "      <th></th>\n",
       "      <th></th>\n",
       "      <th></th>\n",
       "      <th></th>\n",
       "      <th></th>\n",
       "      <th></th>\n",
       "      <th></th>\n",
       "      <th></th>\n",
       "      <th></th>\n",
       "      <th></th>\n",
       "      <th></th>\n",
       "      <th></th>\n",
       "      <th></th>\n",
       "      <th></th>\n",
       "      <th></th>\n",
       "      <th></th>\n",
       "      <th></th>\n",
       "      <th></th>\n",
       "      <th></th>\n",
       "      <th></th>\n",
       "      <th></th>\n",
       "      <th></th>\n",
       "      <th></th>\n",
       "      <th></th>\n",
       "      <th></th>\n",
       "      <th></th>\n",
       "      <th></th>\n",
       "      <th></th>\n",
       "      <th></th>\n",
       "      <th></th>\n",
       "      <th></th>\n",
       "      <th></th>\n",
       "      <th></th>\n",
       "      <th></th>\n",
       "      <th></th>\n",
       "      <th></th>\n",
       "      <th></th>\n",
       "      <th></th>\n",
       "      <th></th>\n",
       "      <th></th>\n",
       "      <th></th>\n",
       "      <th></th>\n",
       "      <th></th>\n",
       "      <th></th>\n",
       "      <th></th>\n",
       "      <th></th>\n",
       "      <th></th>\n",
       "      <th></th>\n",
       "      <th></th>\n",
       "      <th></th>\n",
       "      <th></th>\n",
       "      <th></th>\n",
       "      <th></th>\n",
       "      <th></th>\n",
       "      <th></th>\n",
       "      <th></th>\n",
       "      <th></th>\n",
       "      <th></th>\n",
       "      <th></th>\n",
       "      <th></th>\n",
       "      <th></th>\n",
       "      <th></th>\n",
       "      <th></th>\n",
       "      <th></th>\n",
       "      <th></th>\n",
       "      <th></th>\n",
       "      <th></th>\n",
       "      <th></th>\n",
       "      <th></th>\n",
       "      <th></th>\n",
       "      <th></th>\n",
       "      <th></th>\n",
       "      <th></th>\n",
       "      <th></th>\n",
       "      <th></th>\n",
       "      <th></th>\n",
       "      <th></th>\n",
       "      <th></th>\n",
       "      <th></th>\n",
       "      <th></th>\n",
       "      <th></th>\n",
       "      <th></th>\n",
       "      <th></th>\n",
       "      <th></th>\n",
       "      <th></th>\n",
       "      <th></th>\n",
       "      <th></th>\n",
       "      <th></th>\n",
       "      <th></th>\n",
       "      <th></th>\n",
       "      <th></th>\n",
       "      <th></th>\n",
       "      <th></th>\n",
       "      <th></th>\n",
       "    </tr>\n",
       "  </thead>\n",
       "  <tbody>\n",
       "    <tr>\n",
       "      <th>2025-07-11</th>\n",
       "      <td>5.910027</td>\n",
       "      <td>5.034621</td>\n",
       "      <td>3.030994</td>\n",
       "      <td>2.339977</td>\n",
       "      <td>2.061152</td>\n",
       "      <td>1.909532</td>\n",
       "      <td>1.967533</td>\n",
       "      <td>1.737047</td>\n",
       "      <td>1.610534</td>\n",
       "      <td>1.583641</td>\n",
       "      <td>1.665782</td>\n",
       "      <td>1.610665</td>\n",
       "      <td>1.462921</td>\n",
       "      <td>1.462401</td>\n",
       "      <td>1.420280</td>\n",
       "      <td>1.415564</td>\n",
       "      <td>1.353340</td>\n",
       "      <td>1.369658</td>\n",
       "      <td>1.335457</td>\n",
       "      <td>1.360419</td>\n",
       "      <td>1.332254</td>\n",
       "      <td>1.298222</td>\n",
       "      <td>1.314758</td>\n",
       "      <td>1.298013</td>\n",
       "      <td>1.266143</td>\n",
       "      <td>1.281238</td>\n",
       "      <td>1.247238</td>\n",
       "      <td>1.232540</td>\n",
       "      <td>1.227715</td>\n",
       "      <td>1.207119</td>\n",
       "      <td>1.178551</td>\n",
       "      <td>1.164186</td>\n",
       "      <td>1.173577</td>\n",
       "      <td>1.158430</td>\n",
       "      <td>1.140088</td>\n",
       "      <td>1.142585</td>\n",
       "      <td>1.113262</td>\n",
       "      <td>1.100168</td>\n",
       "      <td>1.130337</td>\n",
       "      <td>1.136519</td>\n",
       "      <td>1.112767</td>\n",
       "      <td>1.119623</td>\n",
       "      <td>1.088595</td>\n",
       "      <td>1.092703</td>\n",
       "      <td>1.057952</td>\n",
       "      <td>1.066437</td>\n",
       "      <td>1.063499</td>\n",
       "      <td>0.000000</td>\n",
       "      <td>1.052101</td>\n",
       "      <td>1.063773</td>\n",
       "      <td>1.026852</td>\n",
       "      <td>1.065544</td>\n",
       "      <td>0.000000</td>\n",
       "      <td>1.014334</td>\n",
       "      <td>0.997901</td>\n",
       "      <td>0.960770</td>\n",
       "      <td>0.956141</td>\n",
       "      <td>0.985915</td>\n",
       "      <td>0.965118</td>\n",
       "      <td>0.957448</td>\n",
       "      <td>0.909118</td>\n",
       "      <td>0.000000</td>\n",
       "      <td>0.900489</td>\n",
       "      <td>0.000000</td>\n",
       "      <td>0.0</td>\n",
       "      <td>0.0</td>\n",
       "      <td>0.0</td>\n",
       "      <td>0.0</td>\n",
       "      <td>0.0</td>\n",
       "      <td>0.0</td>\n",
       "      <td>0.0</td>\n",
       "      <td>0.0</td>\n",
       "      <td>0.0</td>\n",
       "      <td>0.0</td>\n",
       "      <td>0.0</td>\n",
       "      <td>0.0</td>\n",
       "      <td>0.0</td>\n",
       "      <td>0.872503</td>\n",
       "      <td>0.0</td>\n",
       "      <td>0.0</td>\n",
       "      <td>0.0</td>\n",
       "      <td>0.0</td>\n",
       "      <td>0.0</td>\n",
       "      <td>0.0</td>\n",
       "      <td>0.0</td>\n",
       "      <td>0.0</td>\n",
       "      <td>0.0</td>\n",
       "      <td>0.0</td>\n",
       "      <td>0.0</td>\n",
       "      <td>0.0</td>\n",
       "      <td>0.0</td>\n",
       "      <td>0.0</td>\n",
       "      <td>0.0</td>\n",
       "      <td>-0.0</td>\n",
       "      <td>0.0</td>\n",
       "      <td>0.0</td>\n",
       "      <td>0.0</td>\n",
       "      <td>0.0</td>\n",
       "      <td>0.0</td>\n",
       "      <td>0.0</td>\n",
       "    </tr>\n",
       "    <tr>\n",
       "      <th>2025-07-14</th>\n",
       "      <td>5.898271</td>\n",
       "      <td>4.970174</td>\n",
       "      <td>3.020334</td>\n",
       "      <td>2.325513</td>\n",
       "      <td>2.062701</td>\n",
       "      <td>1.925706</td>\n",
       "      <td>1.962202</td>\n",
       "      <td>1.738686</td>\n",
       "      <td>1.619407</td>\n",
       "      <td>1.595996</td>\n",
       "      <td>1.654775</td>\n",
       "      <td>1.605779</td>\n",
       "      <td>1.469098</td>\n",
       "      <td>1.464925</td>\n",
       "      <td>1.419431</td>\n",
       "      <td>1.413305</td>\n",
       "      <td>1.354610</td>\n",
       "      <td>1.361136</td>\n",
       "      <td>1.336205</td>\n",
       "      <td>1.352780</td>\n",
       "      <td>1.332224</td>\n",
       "      <td>1.300115</td>\n",
       "      <td>1.312370</td>\n",
       "      <td>1.299165</td>\n",
       "      <td>1.266554</td>\n",
       "      <td>1.278505</td>\n",
       "      <td>1.242061</td>\n",
       "      <td>1.227993</td>\n",
       "      <td>1.222650</td>\n",
       "      <td>1.205034</td>\n",
       "      <td>1.179680</td>\n",
       "      <td>1.166769</td>\n",
       "      <td>1.172073</td>\n",
       "      <td>1.154227</td>\n",
       "      <td>1.139092</td>\n",
       "      <td>1.141287</td>\n",
       "      <td>1.117690</td>\n",
       "      <td>1.107323</td>\n",
       "      <td>1.128812</td>\n",
       "      <td>1.133151</td>\n",
       "      <td>1.113679</td>\n",
       "      <td>1.117614</td>\n",
       "      <td>1.094492</td>\n",
       "      <td>1.095467</td>\n",
       "      <td>1.067986</td>\n",
       "      <td>1.072563</td>\n",
       "      <td>1.067498</td>\n",
       "      <td>0.000000</td>\n",
       "      <td>1.054672</td>\n",
       "      <td>1.060706</td>\n",
       "      <td>1.032194</td>\n",
       "      <td>1.059936</td>\n",
       "      <td>0.000000</td>\n",
       "      <td>1.014223</td>\n",
       "      <td>0.998415</td>\n",
       "      <td>0.965551</td>\n",
       "      <td>0.960199</td>\n",
       "      <td>0.980788</td>\n",
       "      <td>0.963984</td>\n",
       "      <td>0.957790</td>\n",
       "      <td>0.913300</td>\n",
       "      <td>0.000000</td>\n",
       "      <td>0.000000</td>\n",
       "      <td>0.000000</td>\n",
       "      <td>0.0</td>\n",
       "      <td>0.0</td>\n",
       "      <td>0.0</td>\n",
       "      <td>0.0</td>\n",
       "      <td>0.0</td>\n",
       "      <td>0.0</td>\n",
       "      <td>0.0</td>\n",
       "      <td>0.0</td>\n",
       "      <td>0.0</td>\n",
       "      <td>0.0</td>\n",
       "      <td>0.0</td>\n",
       "      <td>0.0</td>\n",
       "      <td>0.0</td>\n",
       "      <td>0.874311</td>\n",
       "      <td>0.0</td>\n",
       "      <td>0.0</td>\n",
       "      <td>0.0</td>\n",
       "      <td>0.0</td>\n",
       "      <td>0.0</td>\n",
       "      <td>0.0</td>\n",
       "      <td>0.0</td>\n",
       "      <td>0.0</td>\n",
       "      <td>0.0</td>\n",
       "      <td>0.0</td>\n",
       "      <td>0.0</td>\n",
       "      <td>0.0</td>\n",
       "      <td>0.0</td>\n",
       "      <td>0.0</td>\n",
       "      <td>0.0</td>\n",
       "      <td>0.0</td>\n",
       "      <td>0.0</td>\n",
       "      <td>0.0</td>\n",
       "      <td>0.0</td>\n",
       "      <td>0.0</td>\n",
       "      <td>0.0</td>\n",
       "      <td>0.0</td>\n",
       "    </tr>\n",
       "    <tr>\n",
       "      <th>2025-07-15</th>\n",
       "      <td>5.887113</td>\n",
       "      <td>4.908430</td>\n",
       "      <td>3.018034</td>\n",
       "      <td>2.313368</td>\n",
       "      <td>2.064597</td>\n",
       "      <td>1.942398</td>\n",
       "      <td>1.955670</td>\n",
       "      <td>1.740034</td>\n",
       "      <td>1.629237</td>\n",
       "      <td>1.608528</td>\n",
       "      <td>1.644645</td>\n",
       "      <td>1.600167</td>\n",
       "      <td>1.473593</td>\n",
       "      <td>1.467330</td>\n",
       "      <td>1.418167</td>\n",
       "      <td>1.410923</td>\n",
       "      <td>1.355898</td>\n",
       "      <td>1.351707</td>\n",
       "      <td>1.336208</td>\n",
       "      <td>1.345214</td>\n",
       "      <td>1.331929</td>\n",
       "      <td>1.300821</td>\n",
       "      <td>1.309321</td>\n",
       "      <td>1.299286</td>\n",
       "      <td>1.268021</td>\n",
       "      <td>1.275473</td>\n",
       "      <td>1.236926</td>\n",
       "      <td>1.222457</td>\n",
       "      <td>1.217607</td>\n",
       "      <td>1.202724</td>\n",
       "      <td>1.180284</td>\n",
       "      <td>1.169148</td>\n",
       "      <td>1.170553</td>\n",
       "      <td>1.149342</td>\n",
       "      <td>1.138648</td>\n",
       "      <td>1.139401</td>\n",
       "      <td>1.122535</td>\n",
       "      <td>1.115368</td>\n",
       "      <td>1.127083</td>\n",
       "      <td>1.130094</td>\n",
       "      <td>1.114219</td>\n",
       "      <td>1.114850</td>\n",
       "      <td>1.100461</td>\n",
       "      <td>1.097980</td>\n",
       "      <td>1.078521</td>\n",
       "      <td>1.078869</td>\n",
       "      <td>1.071785</td>\n",
       "      <td>0.000000</td>\n",
       "      <td>1.056833</td>\n",
       "      <td>1.057589</td>\n",
       "      <td>1.036805</td>\n",
       "      <td>1.053329</td>\n",
       "      <td>0.000000</td>\n",
       "      <td>1.013523</td>\n",
       "      <td>0.998795</td>\n",
       "      <td>0.969972</td>\n",
       "      <td>0.964845</td>\n",
       "      <td>0.975429</td>\n",
       "      <td>0.962512</td>\n",
       "      <td>0.957448</td>\n",
       "      <td>0.917298</td>\n",
       "      <td>0.000000</td>\n",
       "      <td>0.000000</td>\n",
       "      <td>0.000000</td>\n",
       "      <td>0.0</td>\n",
       "      <td>0.0</td>\n",
       "      <td>0.0</td>\n",
       "      <td>0.0</td>\n",
       "      <td>0.0</td>\n",
       "      <td>0.0</td>\n",
       "      <td>0.0</td>\n",
       "      <td>0.0</td>\n",
       "      <td>0.0</td>\n",
       "      <td>0.0</td>\n",
       "      <td>0.0</td>\n",
       "      <td>0.0</td>\n",
       "      <td>0.0</td>\n",
       "      <td>0.000000</td>\n",
       "      <td>0.0</td>\n",
       "      <td>0.0</td>\n",
       "      <td>0.0</td>\n",
       "      <td>0.0</td>\n",
       "      <td>0.0</td>\n",
       "      <td>0.0</td>\n",
       "      <td>0.0</td>\n",
       "      <td>0.0</td>\n",
       "      <td>0.0</td>\n",
       "      <td>0.0</td>\n",
       "      <td>0.0</td>\n",
       "      <td>0.0</td>\n",
       "      <td>0.0</td>\n",
       "      <td>0.0</td>\n",
       "      <td>0.0</td>\n",
       "      <td>0.0</td>\n",
       "      <td>0.0</td>\n",
       "      <td>0.0</td>\n",
       "      <td>0.0</td>\n",
       "      <td>0.0</td>\n",
       "      <td>0.0</td>\n",
       "      <td>0.0</td>\n",
       "    </tr>\n",
       "    <tr>\n",
       "      <th>2025-07-16</th>\n",
       "      <td>5.876305</td>\n",
       "      <td>4.845110</td>\n",
       "      <td>3.019702</td>\n",
       "      <td>2.302579</td>\n",
       "      <td>2.065831</td>\n",
       "      <td>1.957809</td>\n",
       "      <td>1.949765</td>\n",
       "      <td>1.741634</td>\n",
       "      <td>1.638472</td>\n",
       "      <td>1.620635</td>\n",
       "      <td>1.633559</td>\n",
       "      <td>1.595159</td>\n",
       "      <td>1.475502</td>\n",
       "      <td>1.469805</td>\n",
       "      <td>1.416913</td>\n",
       "      <td>1.410184</td>\n",
       "      <td>1.360922</td>\n",
       "      <td>1.343383</td>\n",
       "      <td>1.335358</td>\n",
       "      <td>1.338233</td>\n",
       "      <td>1.331317</td>\n",
       "      <td>1.302466</td>\n",
       "      <td>1.306261</td>\n",
       "      <td>1.299606</td>\n",
       "      <td>1.270268</td>\n",
       "      <td>1.272467</td>\n",
       "      <td>1.232745</td>\n",
       "      <td>1.217623</td>\n",
       "      <td>1.213119</td>\n",
       "      <td>1.199965</td>\n",
       "      <td>1.181370</td>\n",
       "      <td>1.171142</td>\n",
       "      <td>1.168970</td>\n",
       "      <td>1.144512</td>\n",
       "      <td>1.138031</td>\n",
       "      <td>1.137608</td>\n",
       "      <td>1.127875</td>\n",
       "      <td>1.123070</td>\n",
       "      <td>1.125872</td>\n",
       "      <td>1.127252</td>\n",
       "      <td>1.115516</td>\n",
       "      <td>1.112549</td>\n",
       "      <td>1.105835</td>\n",
       "      <td>1.100991</td>\n",
       "      <td>1.089331</td>\n",
       "      <td>1.084917</td>\n",
       "      <td>1.075037</td>\n",
       "      <td>0.000000</td>\n",
       "      <td>1.059617</td>\n",
       "      <td>1.055126</td>\n",
       "      <td>1.041994</td>\n",
       "      <td>1.047665</td>\n",
       "      <td>-0.000000</td>\n",
       "      <td>1.013185</td>\n",
       "      <td>0.999547</td>\n",
       "      <td>0.974978</td>\n",
       "      <td>0.969544</td>\n",
       "      <td>0.970585</td>\n",
       "      <td>0.961361</td>\n",
       "      <td>0.957875</td>\n",
       "      <td>0.921651</td>\n",
       "      <td>0.000000</td>\n",
       "      <td>0.000000</td>\n",
       "      <td>0.000000</td>\n",
       "      <td>0.0</td>\n",
       "      <td>0.0</td>\n",
       "      <td>0.0</td>\n",
       "      <td>0.0</td>\n",
       "      <td>0.0</td>\n",
       "      <td>0.0</td>\n",
       "      <td>0.0</td>\n",
       "      <td>0.0</td>\n",
       "      <td>0.0</td>\n",
       "      <td>0.0</td>\n",
       "      <td>0.0</td>\n",
       "      <td>0.0</td>\n",
       "      <td>0.0</td>\n",
       "      <td>0.000000</td>\n",
       "      <td>0.0</td>\n",
       "      <td>0.0</td>\n",
       "      <td>0.0</td>\n",
       "      <td>0.0</td>\n",
       "      <td>0.0</td>\n",
       "      <td>0.0</td>\n",
       "      <td>0.0</td>\n",
       "      <td>0.0</td>\n",
       "      <td>0.0</td>\n",
       "      <td>0.0</td>\n",
       "      <td>0.0</td>\n",
       "      <td>0.0</td>\n",
       "      <td>0.0</td>\n",
       "      <td>0.0</td>\n",
       "      <td>0.0</td>\n",
       "      <td>0.0</td>\n",
       "      <td>0.0</td>\n",
       "      <td>0.0</td>\n",
       "      <td>0.0</td>\n",
       "      <td>0.0</td>\n",
       "      <td>0.0</td>\n",
       "      <td>0.0</td>\n",
       "    </tr>\n",
       "    <tr>\n",
       "      <th>2025-07-17</th>\n",
       "      <td>5.864243</td>\n",
       "      <td>4.775161</td>\n",
       "      <td>3.016723</td>\n",
       "      <td>2.291408</td>\n",
       "      <td>2.067067</td>\n",
       "      <td>1.971324</td>\n",
       "      <td>1.941214</td>\n",
       "      <td>1.741060</td>\n",
       "      <td>1.645094</td>\n",
       "      <td>1.630894</td>\n",
       "      <td>1.622684</td>\n",
       "      <td>1.590541</td>\n",
       "      <td>1.473950</td>\n",
       "      <td>1.471214</td>\n",
       "      <td>1.416811</td>\n",
       "      <td>1.408053</td>\n",
       "      <td>1.367900</td>\n",
       "      <td>1.334367</td>\n",
       "      <td>1.332456</td>\n",
       "      <td>1.331090</td>\n",
       "      <td>1.328934</td>\n",
       "      <td>1.304248</td>\n",
       "      <td>1.303264</td>\n",
       "      <td>1.300266</td>\n",
       "      <td>1.273054</td>\n",
       "      <td>1.270263</td>\n",
       "      <td>1.229355</td>\n",
       "      <td>1.213694</td>\n",
       "      <td>1.209181</td>\n",
       "      <td>1.197109</td>\n",
       "      <td>1.182342</td>\n",
       "      <td>1.172433</td>\n",
       "      <td>1.167895</td>\n",
       "      <td>1.139102</td>\n",
       "      <td>1.137381</td>\n",
       "      <td>1.135644</td>\n",
       "      <td>1.133081</td>\n",
       "      <td>1.129136</td>\n",
       "      <td>1.125229</td>\n",
       "      <td>1.124642</td>\n",
       "      <td>1.115786</td>\n",
       "      <td>1.110975</td>\n",
       "      <td>1.109639</td>\n",
       "      <td>1.104368</td>\n",
       "      <td>1.097566</td>\n",
       "      <td>1.090932</td>\n",
       "      <td>1.077457</td>\n",
       "      <td>1.071165</td>\n",
       "      <td>1.061977</td>\n",
       "      <td>1.053222</td>\n",
       "      <td>1.046954</td>\n",
       "      <td>1.042031</td>\n",
       "      <td>1.025379</td>\n",
       "      <td>1.013121</td>\n",
       "      <td>1.000426</td>\n",
       "      <td>0.979278</td>\n",
       "      <td>0.973078</td>\n",
       "      <td>0.965798</td>\n",
       "      <td>0.960970</td>\n",
       "      <td>0.959529</td>\n",
       "      <td>0.925748</td>\n",
       "      <td>0.890281</td>\n",
       "      <td>0.887563</td>\n",
       "      <td>0.694593</td>\n",
       "      <td>0.0</td>\n",
       "      <td>0.0</td>\n",
       "      <td>0.0</td>\n",
       "      <td>0.0</td>\n",
       "      <td>0.0</td>\n",
       "      <td>0.0</td>\n",
       "      <td>0.0</td>\n",
       "      <td>-0.0</td>\n",
       "      <td>0.0</td>\n",
       "      <td>0.0</td>\n",
       "      <td>0.0</td>\n",
       "      <td>0.0</td>\n",
       "      <td>0.0</td>\n",
       "      <td>0.000000</td>\n",
       "      <td>0.0</td>\n",
       "      <td>0.0</td>\n",
       "      <td>0.0</td>\n",
       "      <td>0.0</td>\n",
       "      <td>0.0</td>\n",
       "      <td>0.0</td>\n",
       "      <td>0.0</td>\n",
       "      <td>0.0</td>\n",
       "      <td>0.0</td>\n",
       "      <td>0.0</td>\n",
       "      <td>0.0</td>\n",
       "      <td>0.0</td>\n",
       "      <td>0.0</td>\n",
       "      <td>0.0</td>\n",
       "      <td>0.0</td>\n",
       "      <td>0.0</td>\n",
       "      <td>0.0</td>\n",
       "      <td>0.0</td>\n",
       "      <td>0.0</td>\n",
       "      <td>0.0</td>\n",
       "      <td>0.0</td>\n",
       "      <td>0.0</td>\n",
       "    </tr>\n",
       "  </tbody>\n",
       "</table>\n",
       "</div>"
      ],
      "text/plain": [
       "                PLTR       APP      MSTR      AXON      NFLX      CRWD  \\\n",
       "Date                                                                     \n",
       "2025-07-11  5.910027  5.034621  3.030994  2.339977  2.061152  1.909532   \n",
       "2025-07-14  5.898271  4.970174  3.020334  2.325513  2.062701  1.925706   \n",
       "2025-07-15  5.887113  4.908430  3.018034  2.313368  2.064597  1.942398   \n",
       "2025-07-16  5.876305  4.845110  3.019702  2.302579  2.065831  1.957809   \n",
       "2025-07-17  5.864243  4.775161  3.016723  2.291408  2.067067  1.971324   \n",
       "\n",
       "                DASH      TTWO      AVGO        ZS      FTNT      GILD  \\\n",
       "Date                                                                     \n",
       "2025-07-11  1.967533  1.737047  1.610534  1.583641  1.665782  1.610665   \n",
       "2025-07-14  1.962202  1.738686  1.619407  1.595996  1.654775  1.605779   \n",
       "2025-07-15  1.955670  1.740034  1.629237  1.608528  1.644645  1.600167   \n",
       "2025-07-16  1.949765  1.741634  1.638472  1.620635  1.633559  1.595159   \n",
       "2025-07-17  1.941214  1.741060  1.645094  1.630894  1.622684  1.590541   \n",
       "\n",
       "                 CEG      BKNG      CSCO      TSLA       WBD      TEAM  \\\n",
       "Date                                                                     \n",
       "2025-07-11  1.462921  1.462401  1.420280  1.415564  1.353340  1.369658   \n",
       "2025-07-14  1.469098  1.464925  1.419431  1.413305  1.354610  1.361136   \n",
       "2025-07-15  1.473593  1.467330  1.418167  1.410923  1.355898  1.351707   \n",
       "2025-07-16  1.475502  1.469805  1.416913  1.410184  1.360922  1.343383   \n",
       "2025-07-17  1.473950  1.471214  1.416811  1.408053  1.367900  1.334367   \n",
       "\n",
       "                META      TMUS      MELI      CCEP      ORLY      MNST  \\\n",
       "Date                                                                     \n",
       "2025-07-11  1.335457  1.360419  1.332254  1.298222  1.314758  1.298013   \n",
       "2025-07-14  1.336205  1.352780  1.332224  1.300115  1.312370  1.299165   \n",
       "2025-07-15  1.336208  1.345214  1.331929  1.300821  1.309321  1.299286   \n",
       "2025-07-16  1.335358  1.338233  1.331317  1.302466  1.306261  1.299606   \n",
       "2025-07-17  1.332456  1.331090  1.328934  1.304248  1.303264  1.300266   \n",
       "\n",
       "                FAST       EXC      PAYX       XEL       ADP      COST  \\\n",
       "Date                                                                     \n",
       "2025-07-11  1.266143  1.281238  1.247238  1.232540  1.227715  1.207119   \n",
       "2025-07-14  1.266554  1.278505  1.242061  1.227993  1.222650  1.205034   \n",
       "2025-07-15  1.268021  1.275473  1.236926  1.222457  1.217607  1.202724   \n",
       "2025-07-16  1.270268  1.272467  1.232745  1.217623  1.213119  1.199965   \n",
       "2025-07-17  1.273054  1.270263  1.229355  1.213694  1.209181  1.197109   \n",
       "\n",
       "                VRSK      AMZN      CHTR      ISRG      PANW      ADSK  \\\n",
       "Date                                                                     \n",
       "2025-07-11  1.178551  1.164186  1.173577  1.158430  1.140088  1.142585   \n",
       "2025-07-14  1.179680  1.166769  1.172073  1.154227  1.139092  1.141287   \n",
       "2025-07-15  1.180284  1.169148  1.170553  1.149342  1.138648  1.139401   \n",
       "2025-07-16  1.181370  1.171142  1.168970  1.144512  1.138031  1.137608   \n",
       "2025-07-17  1.182342  1.172433  1.167895  1.139102  1.137381  1.135644   \n",
       "\n",
       "                INTU      NVDA       AEP       BKR       MAR      CTAS  \\\n",
       "Date                                                                     \n",
       "2025-07-11  1.113262  1.100168  1.130337  1.136519  1.112767  1.119623   \n",
       "2025-07-14  1.117690  1.107323  1.128812  1.133151  1.113679  1.117614   \n",
       "2025-07-15  1.122535  1.115368  1.127083  1.130094  1.114219  1.114850   \n",
       "2025-07-16  1.127875  1.123070  1.125872  1.127252  1.115516  1.112549   \n",
       "2025-07-17  1.133081  1.129136  1.125229  1.124642  1.115786  1.110975   \n",
       "\n",
       "                CDNS       HON      KLAC      MSFT      ANSS      LRCX  \\\n",
       "Date                                                                     \n",
       "2025-07-11  1.088595  1.092703  1.057952  1.066437  1.063499  0.000000   \n",
       "2025-07-14  1.094492  1.095467  1.067986  1.072563  1.067498  0.000000   \n",
       "2025-07-15  1.100461  1.097980  1.078521  1.078869  1.071785  0.000000   \n",
       "2025-07-16  1.105835  1.100991  1.089331  1.084917  1.075037  0.000000   \n",
       "2025-07-17  1.109639  1.104368  1.097566  1.090932  1.077457  1.071165   \n",
       "\n",
       "                CSGP      CTSH      IDXX      SBUX      GOOG       LIN  \\\n",
       "Date                                                                     \n",
       "2025-07-11  1.052101  1.063773  1.026852  1.065544  0.000000  1.014334   \n",
       "2025-07-14  1.054672  1.060706  1.032194  1.059936  0.000000  1.014223   \n",
       "2025-07-15  1.056833  1.057589  1.036805  1.053329  0.000000  1.013523   \n",
       "2025-07-16  1.059617  1.055126  1.041994  1.047665 -0.000000  1.013185   \n",
       "2025-07-17  1.061977  1.053222  1.046954  1.042031  1.025379  1.013121   \n",
       "\n",
       "                  EA       ADI      DDOG      PYPL       KDP      MDLZ  \\\n",
       "Date                                                                     \n",
       "2025-07-11  0.997901  0.960770  0.956141  0.985915  0.965118  0.957448   \n",
       "2025-07-14  0.998415  0.965551  0.960199  0.980788  0.963984  0.957790   \n",
       "2025-07-15  0.998795  0.969972  0.964845  0.975429  0.962512  0.957448   \n",
       "2025-07-16  0.999547  0.974978  0.969544  0.970585  0.961361  0.957875   \n",
       "2025-07-17  1.000426  0.979278  0.973078  0.965798  0.960970  0.959529   \n",
       "\n",
       "                 TXN      SNPS      MRVL       AMD  TTD  ODFL  CPRT  AAPL  \\\n",
       "Date                                                                        \n",
       "2025-07-11  0.909118  0.000000  0.900489  0.000000  0.0   0.0   0.0   0.0   \n",
       "2025-07-14  0.913300  0.000000  0.000000  0.000000  0.0   0.0   0.0   0.0   \n",
       "2025-07-15  0.917298  0.000000  0.000000  0.000000  0.0   0.0   0.0   0.0   \n",
       "2025-07-16  0.921651  0.000000  0.000000  0.000000  0.0   0.0   0.0   0.0   \n",
       "2025-07-17  0.925748  0.890281  0.887563  0.694593  0.0   0.0   0.0   0.0   \n",
       "\n",
       "            ABNB  PCAR  AMAT  WDAY  GFS  AZN  INTC  LULU  PEP       CSX  ADBE  \\\n",
       "Date                                                                            \n",
       "2025-07-11   0.0   0.0   0.0   0.0  0.0  0.0   0.0   0.0  0.0  0.872503   0.0   \n",
       "2025-07-14   0.0   0.0   0.0   0.0  0.0  0.0   0.0   0.0  0.0  0.874311   0.0   \n",
       "2025-07-15   0.0   0.0   0.0   0.0  0.0  0.0   0.0   0.0  0.0  0.000000   0.0   \n",
       "2025-07-16   0.0   0.0   0.0   0.0  0.0  0.0   0.0   0.0  0.0  0.000000   0.0   \n",
       "2025-07-17   0.0   0.0   0.0  -0.0  0.0  0.0   0.0   0.0  0.0  0.000000   0.0   \n",
       "\n",
       "            QCOM  CDW  ROST  PDD  MDB  BIIB  VRTX  MCHP  AMGN  FANG   ON  \\\n",
       "Date                                                                       \n",
       "2025-07-11   0.0  0.0   0.0  0.0  0.0   0.0   0.0   0.0   0.0   0.0  0.0   \n",
       "2025-07-14   0.0  0.0   0.0  0.0  0.0   0.0   0.0   0.0   0.0   0.0  0.0   \n",
       "2025-07-15   0.0  0.0   0.0  0.0  0.0   0.0   0.0   0.0   0.0   0.0  0.0   \n",
       "2025-07-16   0.0  0.0   0.0  0.0  0.0   0.0   0.0   0.0   0.0   0.0  0.0   \n",
       "2025-07-17   0.0  0.0   0.0  0.0  0.0   0.0   0.0   0.0   0.0   0.0  0.0   \n",
       "\n",
       "            ASML  NXPI  REGN  ROP  DXCM  KHC  CMCSA  GEHC  ARM   MU  \n",
       "Date                                                                 \n",
       "2025-07-11   0.0   0.0   0.0 -0.0   0.0  0.0    0.0   0.0  0.0  0.0  \n",
       "2025-07-14   0.0   0.0   0.0  0.0   0.0  0.0    0.0   0.0  0.0  0.0  \n",
       "2025-07-15   0.0   0.0   0.0  0.0   0.0  0.0    0.0   0.0  0.0  0.0  \n",
       "2025-07-16   0.0   0.0   0.0  0.0   0.0  0.0    0.0   0.0  0.0  0.0  \n",
       "2025-07-17   0.0   0.0   0.0  0.0   0.0  0.0    0.0   0.0  0.0  0.0  "
      ]
     },
     "execution_count": 24,
     "metadata": {},
     "output_type": "execute_result"
    }
   ],
   "source": [
    "results.momentum.tail().sort_values(by = results.momentum.tail().index[-1], axis = 1, ascending = False)"
   ]
  },
  {
   "cell_type": "code",
   "execution_count": 25,
   "id": "76efed07-2f4b-453f-8bf7-961d535d91c6",
   "metadata": {},
   "outputs": [
    {
     "data": {
      "text/plain": [
       "<Axes: xlabel='Date'>"
      ]
     },
     "execution_count": 25,
     "metadata": {},
     "output_type": "execute_result"
    },
    {
     "data": {
      "image/png": "[encoded data removed]",
      "text/plain": [
       "<Figure size 1000x600 with 1 Axes>"
      ]
     },
     "metadata": {},
     "output_type": "display_data"
    }
   ],
   "source": [
    "(data[[\"PLTR\", \"APP\", \"MSTR\", \"DASH\"]].pct_change()+1).cumprod().plot()"
   ]
  },
  {
   "cell_type": "code",
   "execution_count": 26,
   "id": "e05da895-e5f0-410e-8845-5c39f3feaa99",
   "metadata": {},
   "outputs": [
    {
     "data": {
      "text/plain": [
       "pandas.core.frame.DataFrame"
      ]
     },
     "execution_count": 26,
     "metadata": {},
     "output_type": "execute_result"
    }
   ],
   "source": [
    "type(results.momentum)"
   ]
  },
  {
   "cell_type": "code",
   "execution_count": 27,
   "id": "ce24a70b-b7e4-4db0-99cd-8d9fe513e697",
   "metadata": {},
   "outputs": [],
   "source": [
    "top_five = results.momentum.iloc[-1].nlargest(5)"
   ]
  },
  {
   "cell_type": "code",
   "execution_count": 28,
   "id": "11dd22a4-1a77-4b68-a215-b92a02c24791",
   "metadata": {},
   "outputs": [],
   "source": [
    "columns= top_five.index"
   ]
  },
  {
   "cell_type": "code",
   "execution_count": 29,
   "id": "ce2c08f9-1853-4d2f-bceb-4c23d0571ef5",
   "metadata": {},
   "outputs": [
    {
     "ename": "SyntaxError",
     "evalue": "invalid syntax (1598538117.py, line 1)",
     "output_type": "error",
     "traceback": [
      "\u001b[0;36m  Cell \u001b[0;32mIn[29], line 1\u001b[0;36m\u001b[0m\n\u001b[0;31m    results.momentum[columns].plot()pltr\u001b[0m\n\u001b[0m                                    ^\u001b[0m\n\u001b[0;31mSyntaxError\u001b[0m\u001b[0;31m:\u001b[0m invalid syntax\n"
     ]
    }
   ],
   "source": [
    "results.momentum[columns].plot()pltr"
   ]
  },
  {
   "cell_type": "code",
   "execution_count": null,
   "id": "6a5c2228-cefc-4542-86e0-a21b8e1d6e2b",
   "metadata": {},
   "outputs": [],
   "source": [
    "slope = pd.DataFrame(np.gradient(results.momentum, axis= 0), results.momentum.index, results.momentum.columns)"
   ]
  },
  {
   "cell_type": "code",
   "execution_count": null,
   "id": "63398785-2f8e-4f55-a399-cb3bd20fe538",
   "metadata": {},
   "outputs": [],
   "source": [
    "slope[columns].plot()"
   ]
  },
  {
   "cell_type": "code",
   "execution_count": null,
   "id": "aaac96b4-0458-4bb2-9f93-be1a9b9f908e",
   "metadata": {},
   "outputs": [],
   "source": [
    "results.momentum.plot()"
   ]
  },
  {
   "cell_type": "code",
   "execution_count": null,
   "id": "90f20f4c-4f9c-456b-bae1-1e549af2c864",
   "metadata": {},
   "outputs": [],
   "source": [
    "#pf.assets()"
   ]
  },
  {
   "cell_type": "code",
   "execution_count": null,
   "id": "08986fd5-a1aa-4643-bfcf-c24c8600208e",
   "metadata": {},
   "outputs": [],
   "source": []
  }
 ],
 "metadata": {
  "kernelspec": {
   "display_name": "Python 3 (ipykernel)",
   "language": "python",
   "name": "python3"
  },
  "language_info": {
   "codemirror_mode": {
    "name": "ipython",
    "version": 3
   },
   "file_extension": ".py",
   "mimetype": "text/x-python",
   "name": "python",
   "nbconvert_exporter": "python",
   "pygments_lexer": "ipython3",
   "version": "3.10.12"
  }
 },
 "nbformat": 4,
 "nbformat_minor": 5
}
